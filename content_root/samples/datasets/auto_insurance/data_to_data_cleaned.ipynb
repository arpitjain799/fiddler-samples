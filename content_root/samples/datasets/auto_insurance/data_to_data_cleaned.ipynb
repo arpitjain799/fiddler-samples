{
 "cells": [
  {
   "cell_type": "markdown",
   "metadata": {},
   "source": [
    "# Fiddler examples have moved! [Deprecation Notice]"
   ]
  },
  {
   "cell_type": "markdown",
   "metadata": {},
   "source": [
    "Dear user thank you for using fiddler product, we appreciate your time! We have moved the examples to a new github repo located at the following link\n"
   ]
  },
  {
   "cell_type": "markdown",
   "metadata": {},
   "source": [
    "***\n",
    "# [New fiddler-examples repo](https://github.com/fiddler-labs/fiddler-examples)\n",
    "***"
   ]
  },
  {
   "cell_type": "code",
   "execution_count": null,
   "metadata": {},
   "outputs": [],
   "source": [
    "import pandas as pd"
   ]
  },
  {
   "cell_type": "code",
   "execution_count": null,
   "metadata": {},
   "outputs": [],
   "source": [
    "data = pd.read_csv(\"data.csv\")\n",
    "data.head()"
   ]
  },
  {
   "cell_type": "code",
   "execution_count": null,
   "metadata": {},
   "outputs": [],
   "source": [
    "df = data.rename(columns={\"State\": \"Location State\"})\n",
    "df.columns = [x.lower().replace(' ', '_') for x in df.columns]\n",
    "\n",
    "# Adding a target column to our data. In this case, we deem a 'high_value' customer as\n",
    "# one with customer_lifetime_value >= 5000\n",
    "df = df.assign(high_value=[1 if x >= 5000 else 0 for x in df['customer_lifetime_value']])\n",
    "\n",
    "\n",
    "# Adding a decision column to our data. A high value customer is sent the Campaign A\n",
    "df = df.assign(Campaign_A=['Yes' if x == 1 else 'No' for x in df['high_value']])\n",
    "\n",
    "\n",
    "df.drop(['customer_lifetime_value','customer', 'effective_to_date'], axis = 1, inplace = True)"
   ]
  },
  {
   "cell_type": "code",
   "execution_count": null,
   "metadata": {},
   "outputs": [],
   "source": [
    "df.head()"
   ]
  }
 ],
 "metadata": {
  "kernelspec": {
   "display_name": "Python 3",
   "language": "python",
   "name": "python3"
  },
  "language_info": {
   "codemirror_mode": {
    "name": "ipython",
    "version": 3
   },
   "file_extension": ".py",
   "mimetype": "text/x-python",
   "name": "python",
   "nbconvert_exporter": "python",
   "pygments_lexer": "ipython3",
   "version": "3.7.3"
  }
 },
 "nbformat": 4,
 "nbformat_minor": 4
}

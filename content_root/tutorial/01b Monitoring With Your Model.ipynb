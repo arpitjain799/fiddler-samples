{
 "cells": [
  {
   "cell_type": "markdown",
   "metadata": {},
   "source": [
    "# Fiddler examples have moved! [Deprecation Notice]"
   ]
  },
  {
   "cell_type": "markdown",
   "metadata": {},
   "source": [
    "Dear user thank you for using fiddler product, we appreciate your time! We have moved the examples to a new github repo located at the following link\n"
   ]
  },
  {
   "cell_type": "markdown",
   "metadata": {},
   "source": [
    "***\n",
    "# [New fiddler-examples repo](https://github.com/fiddler-labs/fiddler-examples)\n",
    "***"
   ]
  },
  {
   "cell_type": "markdown",
   "metadata": {},
   "source": [
    "# Publish Event For A Model In Fiddler\n",
    "For this section, we will cover how to publish an event for a model in Fiddler.\n",
    "We will do so by sending monitoring events for a specific model and \n",
    "project that is already housed in Fiddler. "
   ]
  },
  {
   "cell_type": "markdown",
   "metadata": {},
   "source": [
    "## Initialize Fiddler Client\n",
    "We begin this section as usual by establishing a connection to our\n",
    "Fiddler instance. We can establish this connection either by specifying \n",
    "our credentials directly, or by utilizing our `fiddler.ini` file. More\n",
    "information can be found in the [setup](https://github.com/fiddler-labs/fiddler-samples/blob/master/content_root/tutorial/00%20Install%20%26%20Setup.ipynb) section."
   ]
  },
  {
   "cell_type": "code",
   "execution_count": null,
   "metadata": {},
   "outputs": [],
   "source": [
    "import fiddler as fdl\n",
    "\n",
    "\n",
    "# client = fdl.FiddlerApi(url=url, org_id=org_id, auth_token=auth_token)\n",
    "client = fdl.FiddlerApi()"
   ]
  },
  {
   "cell_type": "markdown",
   "metadata": {},
   "source": [
    "## Load event log\n",
    "Event logs must contain the model's input features and predictions. For this\n",
    "demonstration, we have collected events and saved them in a file called `events.log`."
   ]
  },
  {
   "cell_type": "code",
   "execution_count": null,
   "metadata": {},
   "outputs": [],
   "source": [
    "import pandas as pd\n",
    "event_log = pd.read_csv('../samples/datasets/winequality/events.log')\n",
    "\n",
    "project_id = 'wine_quality'\n",
    "model_id = 'regression_model'"
   ]
  },
  {
   "cell_type": "markdown",
   "metadata": {},
   "source": [
    "## Publish Events\n",
    "\n",
    "In this step, we will be simulating traffic to send for our model monitoring by using \n",
    "[publish_event](https://api.fiddler.ai/#publish-event).\n",
    "This will be the equivalent of running our model separately on data, and either \n",
    "sending to Fiddler then, or saving this information to a log and sending at a later point.\n",
    "\n",
    "For this demonstration, we will be going with a log-related approach. \n",
    "This log contains rows that have inputs and predictions. \n",
    "To most accurately simulate this as a time-series event, we will generate a timestamp and send an event every 5 minutes. Real data will ideally have a timestamp related to when the event took place; otherwise, the current \n",
    "time will be used.\n",
    "\n",
    "We can send the inputs, outputs, targets as well as decisions variables.\n",
    "\n",
    "**Note**: The timestamp must be in UTC milliseconds. See \n",
    "[here](https://api.fiddler.ai/#publish-event) for more details"
   ]
  },
  {
   "cell_type": "code",
   "execution_count": null,
   "metadata": {},
   "outputs": [],
   "source": [
    "import datetime\n",
    "import time\n",
    "from IPython.display import clear_output\n",
    "\n",
    "NUM_EVENTS_TO_SEND = 50\n",
    "\n",
    "FIVE_MINUTES_MS = 300000\n",
    "FIFTEEN_MINUTES_MS = FIVE_MINUTES_MS * 3\n",
    "ONE_DAY_MS = 8.64e+7\n",
    "start_date = round(time.time() * 1000) - (ONE_DAY_MS * 8)\n",
    "print(datetime.datetime.fromtimestamp(start_date/1000.0))"
   ]
  },
  {
   "cell_type": "code",
   "execution_count": null,
   "metadata": {},
   "outputs": [],
   "source": [
    "# Convert this dataframe into a list of dictionary events, where each event is its own dictionary\n",
    "event_list_dict = event_log.sample(n=NUM_EVENTS_TO_SEND, random_state=42).to_dict(orient='records') \n",
    "\n",
    "for ind, event_dict in enumerate(event_list_dict):\n",
    "    event_time = start_date + ind * FIVE_MINUTES_MS\n",
    "    result = client.publish_event(project_id,\n",
    "                                  model_id,\n",
    "                                  event_dict,\n",
    "                                  event_time_stamp=event_time,\n",
    "                                  event_id=str(ind + 100),\n",
    "                                  update_event=False)\n",
    "    \n",
    "    readable_timestamp = datetime.datetime.fromtimestamp(event_time/1000.0)\n",
    "    clear_output(wait = True)\n",
    "    \n",
    "    print(f'Sending {ind+1} / {NUM_EVENTS_TO_SEND} \\n{readable_timestamp} UTC: \\n{event_dict}')\n",
    "    time.sleep(0.1)"
   ]
  },
  {
   "cell_type": "markdown",
   "metadata": {},
   "source": [
    "**Note**: If we want to update the events later, we need to specify an `event_id`. To update an event, we need to call `publish_event` again with the same `event_id` and `update_event=True`."
   ]
  },
  {
   "cell_type": "markdown",
   "metadata": {},
   "source": [
    "### Second Option\n",
    "As an alternative, we can send a log dataframe in once by using [publish_events_log](https://api.fiddler.ai/#publish-event).\n",
    "\n",
    "We can embed the `event_timestamp` as a field in the input data frame and then use the `ts_column` to specify which column to use for timestamp. If the timestamp is not provided, the current time will be used.\n",
    "\n",
    "We can send the inputs, outputs, targets as well as decisions variables.\n",
    "\n",
    "**Note**: The timestamp must be in UTC milliseconds. See \n",
    "[here](https://api.fiddler.ai/#publish-event) for more details"
   ]
  },
  {
   "cell_type": "code",
   "execution_count": null,
   "metadata": {},
   "outputs": [],
   "source": [
    "import datetime\n",
    "import time\n",
    "\n",
    "now = datetime.datetime.now()\n",
    "start_date = now - datetime.timedelta(days=2)\n",
    "\n",
    "list_timestamp = [start_date + datetime.timedelta(minutes=5) * ind for ind in range(NUM_EVENTS_TO_SEND)]\n",
    "list_timestamp = [x.isoformat(' ') for x in list_timestamp]"
   ]
  },
  {
   "cell_type": "markdown",
   "metadata": {},
   "source": [
    "Optionally, we can also embed the `event_id` as a field in the input data if we want to update those events later. "
   ]
  },
  {
   "cell_type": "code",
   "execution_count": null,
   "metadata": {},
   "outputs": [],
   "source": [
    "event_id = [str(x) for x in range(NUM_EVENTS_TO_SEND)]"
   ]
  },
  {
   "cell_type": "code",
   "execution_count": null,
   "metadata": {},
   "outputs": [],
   "source": [
    "event_log = pd.concat([event_log.sample(n=NUM_EVENTS_TO_SEND, random_state=42).reset_index(),\n",
    "                       pd.Series(list_timestamp, name='timestamp'),\n",
    "                       pd.Series(event_id, name='__event_id')], axis=1)"
   ]
  },
  {
   "cell_type": "code",
   "execution_count": null,
   "metadata": {},
   "outputs": [],
   "source": [
    "client.publish_events_batch(project_id,\n",
    "                          model_id,\n",
    "                          event_log,\n",
    "                          timestamp_field='timestamp'\n",
    "                         )"
   ]
  },
  {
   "cell_type": "code",
   "execution_count": null,
   "metadata": {},
   "outputs": [],
   "source": []
  }
 ],
 "metadata": {
  "kernelspec": {
   "display_name": "Python 3",
   "language": "python",
   "name": "python3"
  },
  "language_info": {
   "codemirror_mode": {
    "name": "ipython",
    "version": 3
   },
   "file_extension": ".py",
   "mimetype": "text/x-python",
   "name": "python",
   "nbconvert_exporter": "python",
   "pygments_lexer": "ipython3",
   "version": "3.7.2"
  }
 },
 "nbformat": 4,
 "nbformat_minor": 4
}

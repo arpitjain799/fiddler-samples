{
 "cells": [
  {
   "cell_type": "markdown",
   "metadata": {},
   "source": [
    "# Fiddler examples have moved! [Deprecation Notice]"
   ]
  },
  {
   "cell_type": "markdown",
   "metadata": {},
   "source": [
    "Dear user thank you for using fiddler product, we appreciate your time! We have moved the examples to a new github repo located at the following link\n"
   ]
  },
  {
   "cell_type": "markdown",
   "metadata": {},
   "source": [
    "***\n",
    "# [New fiddler-examples repo](https://github.com/fiddler-labs/fiddler-examples)\n",
    "***"
   ]
  },
  {
   "cell_type": "markdown",
   "metadata": {
    "id": "6kUS9B0aonDJ"
   },
   "source": [
    "# Fraud Detection Usecase Walkthrough"
   ]
  },
  {
   "cell_type": "markdown",
   "metadata": {
    "id": "6J93eukcosDk"
   },
   "source": [
    "# Fraud detection management with Fiddler"
   ]
  },
  {
   "cell_type": "markdown",
   "metadata": {
    "id": "nRWOmDk4_SZ7"
   },
   "source": [
    "Machine learning based fraud detection models have been proven to be more effective than human when it comes to detecting fraud. However, if left unattended, the performance of fraud detection models can degrade over time leading to big losses for the company and dissatisfied customers.\n",
    "The Fiddler MPM platform provides a variety of tools which can be used to monitor, explain, analyze, and improve the performance of your fraud detection model.\n"
   ]
  },
  {
   "cell_type": "markdown",
   "metadata": {
    "id": "7aZUnh_Aot7o"
   },
   "source": [
    "## Step 1: Model Setup on the Fiddler Platform"
   ]
  },
  {
   "cell_type": "markdown",
   "metadata": {
    "id": "eOlASh6qpmLF"
   },
   "source": [
    "Please refer to out Quick Start Guide for a detailed walkthrough of how to setup Fiddler platform with your data\n",
    "\n",
    "Please refer to our API documentation for advanced suctionality and access to the features through API"
   ]
  },
  {
   "cell_type": "markdown",
   "metadata": {
    "id": "fgkxKwPlo1vB"
   },
   "source": [
    "### 0. Imports"
   ]
  },
  {
   "cell_type": "code",
   "execution_count": null,
   "metadata": {
    "id": "ks-CbIN6nuz_"
   },
   "outputs": [],
   "source": [
    "!pip install -q fiddler-client==1.0.2;\n",
    "\n",
    "import numpy as np\n",
    "import pandas as pd\n",
    "import fiddler as fdl\n",
    "\n",
    "print(f\"Running client version {fdl.__version__}\")"
   ]
  },
  {
   "cell_type": "markdown",
   "metadata": {
    "id": "BRyihgbWpFXT"
   },
   "source": [
    "### 1. Connect to Fiddler\n",
    "\n",
    "Before you can add your model with Fiddler, you'll need to connect using our API client.\n",
    "\n",
    "\n",
    "---\n",
    "\n",
    "\n",
    "**We need a few pieces of information to get started.**\n",
    "1. The URL you're using to connect to Fiddler\n",
    "2. Your organization ID\n",
    "3. Your authorization token\n",
    "\n",
    "Organizatioin ID and Authorization Token can be obtained from the Fiddler platform under 'Settings' section."
   ]
  },
  {
   "cell_type": "code",
   "execution_count": null,
   "metadata": {
    "id": "0VjgkN_Do-NI"
   },
   "outputs": [],
   "source": [
    "URL = ''\n",
    "ORG_ID = ''\n",
    "AUTH_TOKEN = ''"
   ]
  },
  {
   "cell_type": "code",
   "execution_count": null,
   "metadata": {
    "id": "nu5UaPfqp0NG"
   },
   "outputs": [],
   "source": [
    "client = fdl.FiddlerApi(\n",
    "    url=URL,\n",
    "    org_id=ORG_ID,\n",
    "    auth_token=AUTH_TOKEN\n",
    ")"
   ]
  },
  {
   "cell_type": "markdown",
   "metadata": {
    "id": "V6VMdLueq7kI"
   },
   "source": [
    "### 2. Upload a baseline dataset"
   ]
  },
  {
   "cell_type": "markdown",
   "metadata": {
    "id": "NEl9StDTrHG2"
   },
   "source": [
    "#### Create Project"
   ]
  },
  {
   "cell_type": "code",
   "execution_count": null,
   "metadata": {
    "id": "XYZmSb2vp3Ng"
   },
   "outputs": [],
   "source": [
    "PROJECT_ID = 'fraud_detection'\n",
    "MODEL_ID = 'fraud_detection_model'\n",
    "DATASET_ID = 'fraud_detection_data'"
   ]
  },
  {
   "cell_type": "code",
   "execution_count": null,
   "metadata": {
    "id": "OZJIv06irBVI"
   },
   "outputs": [],
   "source": [
    "client.create_project(PROJECT_ID)"
   ]
  },
  {
   "cell_type": "markdown",
   "metadata": {
    "id": "fuCYR61jrVB5"
   },
   "source": [
    "#### Baseline Data"
   ]
  },
  {
   "cell_type": "code",
   "execution_count": null,
   "metadata": {
    "id": "cd3oXmyirREm"
   },
   "outputs": [],
   "source": [
    "PATH_TO_BASELINE_CSV = 'https://raw.githubusercontent.com/fiddler-labs/fiddler-samples/master/content_root/tutorial/business-use-cases/fraud-detection/baseline_data.csv'\n",
    "\n",
    "baseline_df = pd.read_csv(PATH_TO_BASELINE_CSV)\n",
    "baseline_df = baseline_df.head(10000)\n",
    "baseline_df"
   ]
  },
  {
   "cell_type": "markdown",
   "metadata": {
    "id": "W5U1ACxvroZw"
   },
   "source": [
    "construct a `DatasetInfo` object to be used as a schema for keeping track of the **data types**, **data ranges**, and **unique values** information"
   ]
  },
  {
   "cell_type": "code",
   "execution_count": null,
   "metadata": {
    "id": "zEQFfW92r31v"
   },
   "outputs": [],
   "source": [
    "dataset_info = fdl.DatasetInfo.from_dataframe(baseline_df, max_inferred_cardinality=100)\n",
    "dataset_info"
   ]
  },
  {
   "cell_type": "markdown",
   "metadata": {
    "id": "l8bO2p5KspG5"
   },
   "source": [
    "#### Upload Data"
   ]
  },
  {
   "cell_type": "code",
   "execution_count": null,
   "metadata": {
    "id": "MheAq_-7r_Ek"
   },
   "outputs": [],
   "source": [
    "client.upload_dataset(\n",
    "    project_id=PROJECT_ID,\n",
    "    dataset_id=DATASET_ID,\n",
    "    dataset={\n",
    "        'baseline': baseline_df\n",
    "    },\n",
    "    info=dataset_info\n",
    ")"
   ]
  },
  {
   "cell_type": "markdown",
   "metadata": {
    "id": "j-3ZTRFrs1aE"
   },
   "source": [
    "#### Add Model"
   ]
  },
  {
   "cell_type": "code",
   "execution_count": null,
   "metadata": {
    "id": "TVsjX8n4s3JZ"
   },
   "outputs": [],
   "source": [
    "# Specify task\n",
    "model_task = 'binary'\n",
    "\n",
    "if model_task == 'regression':\n",
    "    model_task = fdl.ModelTask.REGRESSION\n",
    "    \n",
    "elif model_task == 'binary':\n",
    "    model_task = fdl.ModelTask.BINARY_CLASSIFICATION\n",
    "\n",
    "elif model_task == 'multiclass':\n",
    "    model_task = fdl.ModelTask.MULTICLASS_CLASSIFICATION\n",
    "\n",
    "    \n",
    "# Specify column types\n",
    "target = 'is_fraud'\n",
    "outputs = ['pred_is_fraud']\n",
    "decision_cols = None\n",
    "features = ['category', \n",
    "            'amt', \n",
    "            'gender', \n",
    "            'city_pop', \n",
    "            'trans_num', \n",
    "            'total_cc_amt', \n",
    "            'uniq_cat_card', \n",
    "            'time_diff_days', \n",
    "            'time_since_last_trx', \n",
    "            'uniq_merchant_card', \n",
    "            'age']\n",
    "\n",
    "    \n",
    "# Generate ModelInfo\n",
    "model_info = fdl.ModelInfo.from_dataset_info(\n",
    "    dataset_info=dataset_info,\n",
    "    dataset_id=DATASET_ID,\n",
    "    model_task=model_task,\n",
    "    target=target,\n",
    "    outputs=outputs,\n",
    "    decision_cols=decision_cols,\n",
    "    features=features\n",
    ")\n",
    "model_info"
   ]
  },
  {
   "cell_type": "markdown",
   "metadata": {
    "id": "808dLE8ztNGZ"
   },
   "source": [
    "#### Add Model\n",
    "This adds the model schema to Fiddler. It unlocks Monitoring and some Analyze tools in the platform."
   ]
  },
  {
   "cell_type": "code",
   "execution_count": null,
   "metadata": {
    "id": "J_L35VfStJW7"
   },
   "outputs": [],
   "source": [
    "client.add_model(\n",
    "    project_id=PROJECT_ID,\n",
    "    dataset_id=DATASET_ID,\n",
    "    model_id=MODEL_ID,\n",
    "    model_info=model_info\n",
    ")"
   ]
  },
  {
   "cell_type": "markdown",
   "metadata": {},
   "source": [
    "#### Add surrogate model\n",
    "This creates a surrogate model on the platform and unlocks the XAI tools in Fiddler. It used the model schema specified in the `add_model` call."
   ]
  },
  {
   "cell_type": "code",
   "execution_count": null,
   "metadata": {},
   "outputs": [],
   "source": [
    "client.add_model_surrogate(\n",
    "    project_id=PROJECT_ID,\n",
    "    model_id=MODEL_ID,\n",
    ")"
   ]
  },
  {
   "cell_type": "markdown",
   "metadata": {
    "id": "dl8IzoRpunUb"
   },
   "source": [
    "#### Publish Production Events"
   ]
  },
  {
   "cell_type": "code",
   "execution_count": null,
   "metadata": {
    "id": "JJjwcA5QtGKj"
   },
   "outputs": [],
   "source": [
    "path_to_batch = 'https://raw.githubusercontent.com/fiddler-labs/fiddler-samples/master/content_root/tutorial/business-use-cases/fraud-detection/production_data.csv'\n",
    "\n",
    "prod_df = pd.read_csv(path_to_batch)\n",
    "\n",
    "client.publish_events_batch(\n",
    "    project_id=PROJECT_ID,\n",
    "    model_id=MODEL_ID,\n",
    "    batch_source=prod_df,\n",
    "    timestamp_field = 'trans_date_trans_time',\n",
    "    \n",
    ")"
   ]
  },
  {
   "cell_type": "markdown",
   "metadata": {
    "id": "uQ0a2P5bv7q0"
   },
   "source": [
    "### Check Data on Fiddler Platform"
   ]
  },
  {
   "cell_type": "markdown",
   "metadata": {
    "id": "0fE8Kf9IwTNT"
   },
   "source": [
    "Once the model has been added, we can access it on the Platform. On the model landing page we can see Model Details which we mentioned in the ModelInfo object including-\n",
    "\n",
    "\n",
    "1.   Model Task\n",
    "2.   Model Description\n",
    "3.   Data Info like Target column, Output column, Decision Columns etc.\n",
    "\n",
    "\n",
    "\n",
    "\n",
    "\n",
    "\n"
   ]
  },
  {
   "cell_type": "markdown",
   "metadata": {},
   "source": [
    "<img src=\"images/gif/DatasetReady2.gif\" width=900 height=600 />"
   ]
  },
  {
   "cell_type": "markdown",
   "metadata": {
    "id": "G6zfR1orE_qj"
   },
   "source": [
    "## Troubleshoot your Fraud Detection Model with Fiddler\n",
    "\n",
    "In the example below, we will show how you can monitor the performance of your fraud detection model and in case of a performance drop, take steps to mitigate it. Consequently, we will suggest steps that you can take to make sure similar issues do not impact your ML model going forward.\n",
    "\n",
    "Overall, we will be taking the following steps for troubleshooting\n",
    "\n",
    "1.   Monitor Drift for various features\n",
    "2.   Monitor performance metrics associated with Fraud Detection like Recall, False-Positive Rate \n",
    "3.   Monitor Data Integrity Issues like range violations\n",
    "4.   Provide point explanations to the mislabelled points\n",
    "5.   Get to the root cause of the issues\n",
    "\n",
    "\n",
    "\n",
    "\n",
    "\n",
    "\n",
    "\n",
    "\n"
   ]
  },
  {
   "cell_type": "markdown",
   "metadata": {
    "id": "5nybJz34wDE4"
   },
   "source": [
    "### Check Monitoring Panel on Fiddler Platform"
   ]
  },
  {
   "cell_type": "markdown",
   "metadata": {
    "id": "pazOLKycxdHk"
   },
   "source": [
    "#### Data Drift\n",
    "\n",
    "Once the production events are published, we can monitor drift for the model output in the ‘drift’ tab i.e. - pred_is_fraud, which is the probability value of a case being fraud. Here we can see that the prediction value of pred_is_fraud increased from February 15 to February 16. \n"
   ]
  },
  {
   "cell_type": "markdown",
   "metadata": {},
   "source": [
    "<img src=\"images/gif/MonitorDrift2.gif\" width=900 height=600 />"
   ]
  },
  {
   "cell_type": "markdown",
   "metadata": {
    "id": "p2JFpsX2GoEs"
   },
   "source": [
    "### Monitor Performance Metrics\n",
    "\n",
    "Next, in order to check if the performance has degraded, we can check the performance metrics in the ‘Performance’ tab. Here we will monitor ‘Recall’ and ‘FPR’ of the model. We can see that the recall has gone down and FPR has gone up in the same period."
   ]
  },
  {
   "cell_type": "markdown",
   "metadata": {},
   "source": [
    "<img src=\"images/gif/ModelPerformance2.gif\" width=900 height=600 />"
   ]
  },
  {
   "cell_type": "markdown",
   "metadata": {},
   "source": [
    "<img src=\"images/png/ModelPerformance1.png\" width=900 height=600 />"
   ]
  },
  {
   "cell_type": "markdown",
   "metadata": {
    "id": "C6nsWcVFG1E6"
   },
   "source": [
    "### Data Integrity\n",
    "\n",
    "The performance drop could be due to change in the quality of the data. In order to check that we can go to the ‘Data Integrity’ tab to look for Missing Value Violations, Type Violations, Range Violations, etc. We can see the columns ‘Category’ suffers range violations. Since this is a ‘categorical’ column, it is likely that there is a new value which the model did not encounter during training."
   ]
  },
  {
   "cell_type": "markdown",
   "metadata": {},
   "source": [
    "<img src=\"images/gif/DataIntegrity2.gif\" width=900 height=600 />"
   ]
  },
  {
   "cell_type": "markdown",
   "metadata": {},
   "source": [
    "<img src=\"images/png/DataIntegrity1.png\" width=900 height=600 />"
   ]
  },
  {
   "cell_type": "markdown",
   "metadata": {
    "id": "fbZAq0kwHCD_"
   },
   "source": [
    "### Check the impact of drift\n",
    "\n",
    "We can go back to the ‘Data Drift’ tab to measure how much the data integrity issue has impacted the prediction. We can select the bin in which the drift increased. The table below shows the Feature Impact, Feature Drift and Prediction Drift Impact values for the selected bin. We can see that even though the Feature Impact for ‘Category’ value is less than ‘Amt’ (Amount) value, because of the drift, it’s Prediction Drift Impact is more. \n"
   ]
  },
  {
   "cell_type": "markdown",
   "metadata": {},
   "source": [
    "<img src=\"images/gif/DriftImpact2.gif\" width=900 height=600 />"
   ]
  },
  {
   "cell_type": "markdown",
   "metadata": {},
   "source": [
    "<img src=\"images/png/DriftImpact1.png\" width=900 height=600 />"
   ]
  },
  {
   "cell_type": "markdown",
   "metadata": {
    "id": "ABOf8X6lHLfK"
   },
   "source": [
    "We will now move on to check the difference between the production and baseline data for this bin. For this we can click on ‘Export bin and feature to Analyze’. Which will land us on the Analyze tab."
   ]
  },
  {
   "cell_type": "markdown",
   "metadata": {
    "id": "tKRm3TR6HOzJ"
   },
   "source": [
    "### Root Cause Analysis in the ‘Analyze’ tab\n",
    "The analyze tab pre-populated the left side of the tab with the query based on our selection. We can also write custom queries to slice the data for analysis.\n"
   ]
  },
  {
   "cell_type": "markdown",
   "metadata": {},
   "source": [
    "<img src=\"images/gif/RCA2.gif\" width=900 height=600 />"
   ]
  },
  {
   "cell_type": "markdown",
   "metadata": {},
   "source": [
    "<img src=\"images/png/RCA3.png\" width=900 height=600 />"
   ]
  },
  {
   "cell_type": "markdown",
   "metadata": {
    "id": "zwTCspSXHUit"
   },
   "source": [
    "One the right hand side of the tab we can build charts on the tabular data based on the results of our custom query. For this RCA we will build a ‘Feature Distribution’ chart on the ‘Category’ column to check the distinct values and also measure the percentage of each value. We can see there are 15 distinct values along with their percentages."
   ]
  },
  {
   "cell_type": "markdown",
   "metadata": {},
   "source": [
    "<img src=\"images/png/RCA4.png\" width=600 height=600 />"
   ]
  },
  {
   "cell_type": "markdown",
   "metadata": {
    "id": "nTKqzmLHHXWb"
   },
   "source": [
    "Next, we will compare the Feature Distribution chart in production data vs the baseline data to find out about the data integrity violation. We can modify the query to obtain data for baseline data and produce a ‘Feature Distribution’ chart for the same."
   ]
  },
  {
   "cell_type": "markdown",
   "metadata": {},
   "source": [
    "<img src=\"images/png/RCA5.png\" width=600 height=600 />"
   ]
  },
  {
   "cell_type": "markdown",
   "metadata": {
    "id": "Eicm8pR2Hfzd"
   },
   "source": [
    "We can see that the baseline data has just 14 unique values and ‘insurance’ is not present in baseline data. This ‘Category’ value wasn’t present in the training data and crept in production data likely causing performance degradation.\n",
    "Next, we can perform a ‘point explanation’ for one such case where the ‘Category’ value was ‘Insurance’ and the prediction was incorrect to measure how much did ‘Category’ column contributed to the prediction by looking at its SHAP value.\n"
   ]
  },
  {
   "cell_type": "markdown",
   "metadata": {},
   "source": [
    "<img src=\"images/png/RCA6.png\" width=900 height=600 />"
   ]
  },
  {
   "cell_type": "markdown",
   "metadata": {
    "id": "Wj7Ci64NHj5R"
   },
   "source": [
    "We can click on the bulb sign beside the row to produce a point explanation. If we look at the example <number>, we can see that the output probability value was <val> (predicted as fraud according to the threshold of 0.5) but the actual value was ‘not fraud’. \n",
    "\n",
    "The bulb icon will take us to ‘Explain’ tab. Here we can see that ‘category’ value contributed to the model predicting the case as ‘fraud’.\n"
   ]
  },
  {
   "cell_type": "markdown",
   "metadata": {},
   "source": [
    "<img src=\"images/png/RCA7.png\" width=900 height=600 />"
   ]
  },
  {
   "cell_type": "markdown",
   "metadata": {
    "id": "MMa4yxirHogo"
   },
   "source": [
    "### Actions\n",
    "We discovered that the prediction drift and performance drop was due to the introduction of a new value in the ‘Category’ column. We can take steps so that we could identify this kind of issue in future before it can result in business impact.\n",
    "\n",
    "#### Setting up Alerts\n",
    "In the ‘Analyze’ tab, we can set up alerts to notify us of as soon as a certain data issue happens. For example, for the case we discussed, we can set up alert as shown below to alert us when the range violation increases beyond a certain threshold (e.g.-5%).\n",
    "\n",
    "\n",
    "These alerts can further influence retraining of the ML model, we can retrain the model including the new data so the newly trained model contains the ‘insurance’ category value. This should result in improved performance.\n"
   ]
  },
  {
   "cell_type": "markdown",
   "metadata": {},
   "source": [
    "<img src=\"images/gif/Alert2.gif\" width=900 height=600 />"
   ]
  },
  {
   "cell_type": "markdown",
   "metadata": {
    "id": "J-cKsmXaH0vK"
   },
   "source": [
    "## Conclusion\n",
    "Undetected Fraud Cases can lead to losses for company and customers, not to mention damage reputation and relationship with customers. Fiddler’s MPM platforms can be used to identify the pitfalls in your ML model and mitigate them before they have an impact on your business.\n",
    "In this walkthrough we investigated one such issue with a fraud detection model where a data integrity issue caused performance of the ML model to drop. \n",
    "Fiddler can be used to keep the health of your Fraud Detection Model up by - \n",
    "\n",
    "1.   Monitoring the drift of the performance metric\n",
    "2.   Monitoring various performance metrics associated with the model\n",
    "3.   Monitoring data integrity issues which could harm the model performance\n",
    "4.   Investigating the features which have drifted/ compromised and analyzing them to mitigate the issue\n",
    "5.   Performing a Root Cause Analysis to identify the exact cause and fixing it\n",
    "6.   Diving into point explanations to identify how much the issue has an impact on a particular data point\n",
    "7.   Setting up alerts to make sure the issue does not happen again\n",
    "\n",
    "We discovered there was an issue with the ‘Category’ column, wherein a new value was discovered in the production data. This led to performance drop in the data likely due to the range violation. We suggest two steps to mitigate this issue-\n",
    "\n",
    "1.   Setting up an ‘alerts’ to identify similar issues in data integrity\n",
    "2.   Retraining the ML model after including the new data (with the ground truth labels) to teach the model of the new values\n",
    "\n",
    "\n",
    "\n",
    "\n"
   ]
  }
 ],
 "metadata": {
  "colab": {
   "collapsed_sections": [],
   "name": "Fraud-Detection-Usecase-Fiddler.ipynb",
   "provenance": []
  },
  "kernelspec": {
   "display_name": "Python 3 (ipykernel)",
   "language": "python",
   "name": "python3"
  },
  "language_info": {
   "codemirror_mode": {
    "name": "ipython",
    "version": 3
   },
   "file_extension": ".py",
   "mimetype": "text/x-python",
   "name": "python",
   "nbconvert_exporter": "python",
   "pygments_lexer": "ipython3",
   "version": "3.9.16"
  }
 },
 "nbformat": 4,
 "nbformat_minor": 1
}

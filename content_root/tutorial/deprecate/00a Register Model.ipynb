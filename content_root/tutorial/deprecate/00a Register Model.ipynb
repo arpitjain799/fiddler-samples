{
 "cells": [
  {
   "cell_type": "markdown",
   "metadata": {},
   "source": [
    "# Fiddler examples have moved! [Deprecation Notice]"
   ]
  },
  {
   "cell_type": "markdown",
   "metadata": {},
   "source": [
    "Dear user thank you for using fiddler product, we appreciate your time! We have moved the examples to a new github repo located at the following link\n"
   ]
  },
  {
   "cell_type": "markdown",
   "metadata": {},
   "source": [
    "***\n",
    "# [New fiddler-examples repo](https://github.com/fiddler-labs/fiddler-examples)\n",
    "***"
   ]
  },
  {
   "cell_type": "markdown",
   "metadata": {},
   "source": [
    "# Register a Model on Fiddler\n",
    "\n",
    "This tutorial shows how to use XAI and Model Monitoring in Fiddler. \n",
    "The tutorial has three parts:\n",
    "- upload your dataset\n",
    "- register your model\n",
    "- send prediction events"
   ]
  },
  {
   "cell_type": "markdown",
   "metadata": {},
   "source": [
    "## Initialize Fiddler Client\n",
    "We begin this section as usual by establishing a connection to our\n",
    "Fiddler instance. We can establish this connection either by specifying \n",
    "our credentials directly, or by utilizing our `fiddler.ini` file. More\n",
    "information can be found in the [setup](https://github.com/fiddler-labs/fiddler-samples/blob/master/content_root/tutorial/00%20Setup.ipynb) section.\n"
   ]
  },
  {
   "cell_type": "code",
   "execution_count": null,
   "metadata": {},
   "outputs": [],
   "source": [
    "import fiddler as fdl\n",
    "\n",
    "# client = fdl.FiddlerApi(url=url, org_id=org_id, auth_token=auth_token)\n",
    "client = fdl.FiddlerApi()"
   ]
  },
  {
   "cell_type": "markdown",
   "metadata": {},
   "source": [
    "## Load Dataset"
   ]
  },
  {
   "cell_type": "markdown",
   "metadata": {},
   "source": [
    "Here we will load in our baseline dataset from a csv called `p2p_loans.csv`. We will\n",
    "also create a schema using this information."
   ]
  },
  {
   "cell_type": "code",
   "execution_count": null,
   "metadata": {},
   "outputs": [],
   "source": [
    "import pandas as pd\n",
    "dataset_df = pd.read_csv(\n",
    "    'https://raw.githubusercontent.com/fiddler-labs/fiddler-samples/master/content_root/samples/datasets/p2p_loans/p2p_loans.csv'\n",
    ")\n",
    "dataset_df"
   ]
  },
  {
   "cell_type": "markdown",
   "metadata": {},
   "source": [
    "## Infer dataset schema"
   ]
  },
  {
   "cell_type": "code",
   "execution_count": null,
   "metadata": {},
   "outputs": [],
   "source": [
    "# infer dataset schema\n",
    "schema = fdl.DatasetInfo.from_dataframe(dataset_df, max_inferred_cardinality=1000)\n",
    "\n",
    "# inspect schema and modify as needed\n",
    "schema"
   ]
  },
  {
   "cell_type": "markdown",
   "metadata": {},
   "source": [
    "## Upload Dataset"
   ]
  },
  {
   "cell_type": "code",
   "execution_count": null,
   "metadata": {},
   "outputs": [],
   "source": [
    "dataset_id = 'loan_dataset'\n",
    "\n",
    "# delete dataset if it is already available\n",
    "client.delete_dataset(dataset_id)\n",
    "\n",
    "# split dataset\n",
    "train_df = dataset_df[:2000]\n",
    "test_df = dataset_df[2001:]\n",
    "\n",
    "# upload dataset\n",
    "client.upload_dataset(\n",
    "    dataset={\n",
    "        'train': train_df,\n",
    "        'test': test_df\n",
    "    },\n",
    "    dataset_id=dataset_id,\n",
    "    info=schema,\n",
    ")\n",
    "dataset_info = client.get_dataset_info(dataset_id)\n",
    "    \n",
    "dataset_info\n"
   ]
  },
  {
   "cell_type": "markdown",
   "metadata": {},
   "source": [
    "## Setup project"
   ]
  },
  {
   "cell_type": "code",
   "execution_count": null,
   "metadata": {},
   "outputs": [],
   "source": [
    "project_id = 'tutorial'\n",
    "\n",
    "if project_id not in client.list_projects():\n",
    "    client.create_project(project_id)\n",
    "    \n"
   ]
  },
  {
   "cell_type": "markdown",
   "metadata": {},
   "source": [
    "## Create model schema\n"
   ]
  },
  {
   "cell_type": "code",
   "execution_count": null,
   "metadata": {},
   "outputs": [],
   "source": [
    "model_id = 'loan_model'\n",
    "target='loan_status'\n",
    "features = ['loan_amnt', 'int_rate', 'annual_inc', 'dti', 'fico_range_low', \n",
    "            'total_acc', 'acc_open_past_24mths', 'addr_state']\n",
    "decisions = ['home_ownership']\n",
    "metadata = ['id', 'zip_code_prefix']\n",
    "\n",
    "model_info = fdl.ModelInfo.from_dataset_info(\n",
    "    dataset_info=dataset_info,\n",
    "    target=target,\n",
    "    features=features,\n",
    "    display_name='Loan Model',\n",
    "    description='Loan Model registered using register_model API',\n",
    "    decision_cols=decisions,\n",
    "    metadata_cols=metadata,\n",
    "    input_type=fdl.ModelInputType.TABULAR,\n",
    "    model_task=fdl.ModelTask.BINARY_CLASSIFICATION,\n",
    "    outputs=['probability_fully_paid'],\n",
    ")\n",
    "\n",
    "# inspect model info and modify as needed\n",
    "model_info\n"
   ]
  },
  {
   "cell_type": "markdown",
   "metadata": {},
   "source": [
    "## Register model"
   ]
  },
  {
   "cell_type": "code",
   "execution_count": null,
   "metadata": {},
   "outputs": [],
   "source": [
    "# delete model if it is already available\n",
    "client.delete_model(project_id, model_id, delete_prod=True)\n",
    "\n",
    "# register model\n",
    "client.register_model(project_id, model_id, dataset_id, model_info)\n"
   ]
  },
  {
   "cell_type": "markdown",
   "metadata": {},
   "source": [
    "## Send Monitoring Events\n",
    "\n",
    "In this step, we will be simulating traffic to send for our model monitoring by using \n",
    "[publish_event](https://docs.fiddler.ai/api-reference/python-package/#publish-event). \n",
    "This will be the equivalent of running our model separately on data, and either \n",
    "sending to Fiddler then, or saving this information to a log and sending at a later point.\n",
    "\n",
    "For this demonstration, we will be going with a log-related approach. \n",
    "This log contains rows that have inputs and predictions. \n",
    "To most accurately simulate this as a time-series event, we will generate a timestamp and send an event every 5 minutes. Real data will ideally have a timestamp related to when the event took place; otherwise, the current \n",
    "time will be used.\n",
    "\n",
    "We can send the inputs, outputs, targets as well as decisions variables.\n",
    "\n",
    "**Note**: The timestamp must be in UTC milliseconds. See \n",
    "[here](https://docs.fiddler.ai/api-reference/python-package/#publish-event) for more details"
   ]
  },
  {
   "cell_type": "code",
   "execution_count": null,
   "metadata": {},
   "outputs": [],
   "source": [
    "import datetime\n",
    "import time\n",
    "from IPython.display import clear_output\n",
    "import random\n",
    "\n",
    "result_df = pd.read_csv('https://raw.githubusercontent.com/fiddler-labs/fiddler-samples/master/content_root/samples/datasets/p2p_loans/p2p_production.log')\n",
    "\n",
    "NUM_EVENTS_TO_SEND = 50\n",
    "\n",
    "ONE_DAY_MS = 8.64e+7\n",
    "event_time = round(time.time() * 1000) - (ONE_DAY_MS * 8)\n",
    "interval = round((ONE_DAY_MS * 8) / NUM_EVENTS_TO_SEND)\n",
    "\n",
    "# Convert this dataframe into a list of dictionary events, where each event is its own dictionary\n",
    "event_list_dict = result_df.sample(n=NUM_EVENTS_TO_SEND).to_dict(orient='records') \n",
    "\n",
    "for ind, event_dict in enumerate(event_list_dict):\n",
    "    event_time = event_time + random.randint(1, interval * 2)\n",
    "    result = client.publish_event(project_id,\n",
    "                                  model_id,\n",
    "                                  event_dict,\n",
    "                                  event_time_stamp=event_time,\n",
    "                                  event_id=str(ind + 100),\n",
    "                                  update_event=False)\n",
    "    \n",
    "    clear_output(wait = True)\n",
    "    \n",
    "    print(f'Sending {ind+1} / {NUM_EVENTS_TO_SEND} \\n {event_dict}' )\n",
    "    time.sleep(0.1)"
   ]
  },
  {
   "cell_type": "markdown",
   "metadata": {},
   "source": [
    "**Note**: If we want to update the events later, we need to specify an `event_id`. To update an event, we need to call `publish_event` again with the same `event_id` and `update_event=True`."
   ]
  }
 ],
 "metadata": {
  "kernelspec": {
   "display_name": "Python 3",
   "language": "python",
   "name": "python3"
  },
  "language_info": {
   "codemirror_mode": {
    "name": "ipython",
    "version": 3
   },
   "file_extension": ".py",
   "mimetype": "text/x-python",
   "name": "python",
   "nbconvert_exporter": "python",
   "pygments_lexer": "ipython3",
   "version": "3.7.3"
  }
 },
 "nbformat": 4,
 "nbformat_minor": 2
}

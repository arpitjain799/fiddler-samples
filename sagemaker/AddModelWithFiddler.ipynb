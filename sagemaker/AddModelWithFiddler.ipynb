{
 "cells": [
  {
   "cell_type": "markdown",
   "id": "49ca8c97",
   "metadata": {},
   "source": [
    "# Fiddler examples have moved! [Deprecation Notice]"
   ]
  },
  {
   "cell_type": "markdown",
   "id": "11f3c91f",
   "metadata": {},
   "source": [
    "Dear user thank you for using fiddler product, we appreciate your time! We have moved the examples to a new github repo located at the following link\n"
   ]
  },
  {
   "cell_type": "markdown",
   "id": "e74c1b0e",
   "metadata": {},
   "source": [
    "***\n",
    "# [New fiddler-examples repo](https://github.com/fiddler-labs/fiddler-examples)\n",
    "***"
   ]
  },
  {
   "cell_type": "markdown",
   "id": "2c629728-458a-4fb1-bf22-4e9666663228",
   "metadata": {},
   "source": [
    "#### BEFORE YOU BEGIN: Please note that this is an example notebook that will run against your Fiddler Trial environment as-is.  However, if you want this notebook to register details about your existing SageMaker model, you will need to update the sections below as called out by the comments below."
   ]
  },
  {
   "cell_type": "markdown",
   "id": "dabf3457-7268-4eaf-9fb7-b9a7824b8677",
   "metadata": {},
   "source": [
    "## Install the Fiddler Client and Import Libraries"
   ]
  },
  {
   "cell_type": "code",
   "execution_count": null,
   "id": "63f4a9c4-3665-4095-b2b5-a243c182ad0a",
   "metadata": {},
   "outputs": [],
   "source": [
    "# Install the fiddler client\n",
    "!pip install fiddler-client"
   ]
  },
  {
   "cell_type": "code",
   "execution_count": null,
   "id": "2edb7549-17d8-4f23-9802-968b5488aedc",
   "metadata": {},
   "outputs": [],
   "source": [
    "# Import the needed libraries\n",
    "import fiddler as fdl\n",
    "import pandas as pd"
   ]
  },
  {
   "cell_type": "code",
   "execution_count": null,
   "id": "7e660a59-f6f7-41e9-81f6-bae9c36f4cf7",
   "metadata": {},
   "outputs": [],
   "source": [
    "# Output version of the Fiddler client\n",
    "fdl.__version__"
   ]
  },
  {
   "cell_type": "markdown",
   "id": "e794754d-9c14-40d9-965f-0212062a4dc2",
   "metadata": {},
   "source": [
    "## Connect the Fiddler Client to Your Trial Environment"
   ]
  },
  {
   "cell_type": "code",
   "execution_count": null,
   "id": "eaa96dfd-aecb-4a30-ae46-5925b2f238a3",
   "metadata": {},
   "outputs": [],
   "source": [
    "# Please update these variables with those specific to your Fiddler Trial Environment\n",
    "\n",
    "URL = 'https://yourcompany.try.fiddler.ai'\n",
    "ORG_ID = 'yourcompany'\n",
    "AUTH_TOKEN = 'UUID-Token-Here-Found-In-Your-Fiddler-Env-Settings-Page'\n",
    "\n",
    "client = fdl.FiddlerApi(URL, ORG_ID, AUTH_TOKEN)"
   ]
  },
  {
   "cell_type": "markdown",
   "id": "b0b94fc1-4d75-4257-8aab-27ceaebe8975",
   "metadata": {},
   "source": [
    "## Set Variables and Create a Fiddler Project"
   ]
  },
  {
   "cell_type": "code",
   "execution_count": null,
   "id": "4da09a72-f8f3-4966-9508-670655722fd5",
   "metadata": {},
   "outputs": [],
   "source": [
    "# Create Project.  You can keep these variables as is or name them specific to the SageMaker model you're registering.\n",
    "PROJECT_ID = 'credit_default'\n",
    "DATASET_ID = 'credit_default_dataset'\n",
    "MODEL_ID = 'credit_default_model'\n",
    "\n",
    "client.create_project(PROJECT_ID)"
   ]
  },
  {
   "cell_type": "markdown",
   "id": "a8bf6036-276b-4508-a296-4a4bff810816",
   "metadata": {},
   "source": [
    "## Read in the Model's Training Data and Upload it to Fiddler"
   ]
  },
  {
   "cell_type": "code",
   "execution_count": 28,
   "id": "c8bfe3e0-bc9f-4d65-8dbc-57f0cab0aeb1",
   "metadata": {},
   "outputs": [],
   "source": [
    "# This is an example baseline dataset.  Feel free to update this with your own training dataset for your SageMaker model.  \n",
    "# If you update this with your own training dataset, you will need to update the model info step below to specify the features, output, target, etc. for your model too.\n",
    "\n",
    "df_baseline = pd.read_csv('https://raw.githubusercontent.com/fiddler-labs/fiddler-samples/master/sagemaker/train.csv')"
   ]
  },
  {
   "cell_type": "code",
   "execution_count": null,
   "id": "9ee94f5d-8e0b-41c7-8ff3-27236e7c49ef",
   "metadata": {},
   "outputs": [],
   "source": [
    "dataset_info = fdl.DatasetInfo.from_dataframe(df_baseline, max_inferred_cardinality=1000)\n",
    "dataset_info"
   ]
  },
  {
   "cell_type": "code",
   "execution_count": null,
   "id": "7ead1723-b2cc-4523-ae6d-9b61d8d35f70",
   "metadata": {},
   "outputs": [],
   "source": [
    "upload_result = client.upload_dataset(PROJECT_ID,\n",
    "                                      dataset={'baseline': df_baseline},\n",
    "                                      dataset_id=DATASET_ID,\n",
    "                                      info=dataset_info)"
   ]
  },
  {
   "cell_type": "markdown",
   "id": "5c4b54c0-5fbe-440b-8d56-bf156573382e",
   "metadata": {},
   "source": [
    "## Create a Model Info Object and Add Your Model's Metadata with Fiddler"
   ]
  },
  {
   "cell_type": "code",
   "execution_count": null,
   "id": "2fa6bdf2-bb2a-4a8d-81f0-3810dd0544fa",
   "metadata": {},
   "outputs": [],
   "source": [
    "# Note: If you didn't update the training dataset read in above, you can leave this cell alone.  However, if you\n",
    "# updated the training dataset above to be your own, you will need to update this cell to specify your model's own features, output, target, etc.\n",
    "\n",
    "# Specify task\n",
    "model_task = 'binary'\n",
    "\n",
    "if model_task == 'regression':\n",
    "    model_task_fdl = fdl.ModelTask.REGRESSION\n",
    "    \n",
    "elif model_task == 'binary':\n",
    "    model_task_fdl = fdl.ModelTask.BINARY_CLASSIFICATION\n",
    "\n",
    "elif model_task == 'multiclass':\n",
    "    model_task_fdl = fdl.ModelTask.MULTICLASS_CLASSIFICATION\n",
    "\n",
    "elif model_task == 'ranking':\n",
    "    model_task_fdl = fdl.ModelTask.RANKING\n",
    "\n",
    "    \n",
    "# Specify column types\n",
    "target = 'TARGET'\n",
    "outputs = ['prediction']\n",
    "features = ['NAME_CONTRACT_TYPE', 'FLAG_OWN_CAR', 'FLAG_OWN_REALTY', 'CNT_CHILDREN', 'AMT_INCOME_TOTAL', \n",
    "                  'AMT_CREDIT', 'AMT_ANNUITY', 'AMT_GOODS_PRICE', 'REGION_POPULATION_RELATIVE', 'DAYS_BIRTH', 'DAYS_EMPLOYED',\n",
    "                  'DAYS_REGISTRATION', 'OWN_CAR_AGE', 'CNT_FAM_MEMBERS', 'REGION_RATING_CLIENT', \n",
    "                  'REGION_RATING_CLIENT_W_CITY', 'AMT_REQ_CREDIT_BUREAU_HOUR', 'AMT_REQ_CREDIT_BUREAU_DAY',\n",
    "                  'AMT_REQ_CREDIT_BUREAU_WEEK', 'AMT_REQ_CREDIT_BUREAU_MON', 'AMT_REQ_CREDIT_BUREAU_QRT',\n",
    "                  'AMT_REQ_CREDIT_BUREAU_YEAR', 'APARTMENTS_AVG', 'BASEMENTAREA_AVG', 'YEARS_BEGINEXPLUATATION_AVG',\n",
    "                  'YEARS_BUILD_AVG', 'COMMONAREA_AVG', 'LANDAREA_AVG', 'LIVINGAPARTMENTS_AVG', 'LIVINGAREA_AVG']\n",
    "     \n",
    "# Generate a Fiddler ModelInfo object\n",
    "model_info = fdl.ModelInfo.from_dataset_info(\n",
    "    dataset_info=dataset_info,\n",
    "    dataset_id=DATASET_ID,\n",
    "    model_task=model_task_fdl,\n",
    "    target=target,\n",
    "    outputs=outputs,\n",
    "    features=features,\n",
    "    binary_classification_threshold=.125,\n",
    "    description='This model predicts the probability of a customer defaulting on their home loan',\n",
    "    display_name='XGBoost Credit Default Detection Model'\n",
    ")\n",
    "model_info"
   ]
  },
  {
   "cell_type": "code",
   "execution_count": null,
   "id": "4d449a81-3bd2-4790-ae2e-bebda0a07642",
   "metadata": {},
   "outputs": [],
   "source": [
    "# Add the model with Fiddler\n",
    "client.add_model(\n",
    "    project_id=PROJECT_ID,\n",
    "    dataset_id=DATASET_ID,\n",
    "    model_id=MODEL_ID,\n",
    "    model_info=model_info\n",
    ")"
   ]
  }
 ],
 "metadata": {
  "kernelspec": {
   "display_name": "Python 3 (ipykernel)",
   "language": "python",
   "name": "python3"
  },
  "language_info": {
   "codemirror_mode": {
    "name": "ipython",
    "version": 3
   },
   "file_extension": ".py",
   "mimetype": "text/x-python",
   "name": "python",
   "nbconvert_exporter": "python",
   "pygments_lexer": "ipython3",
   "version": "3.9.16"
  }
 },
 "nbformat": 4,
 "nbformat_minor": 5
}
